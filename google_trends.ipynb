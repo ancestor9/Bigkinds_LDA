{
 "cells": [
  {
   "cell_type": "markdown",
   "id": "2f3f3628",
   "metadata": {},
   "source": [
    "# Google Trend with PyTrend"
   ]
  },
  {
   "cell_type": "markdown",
   "id": "e05a8586",
   "metadata": {},
   "source": [
    "https://justaprogrammerpassingby.blogspot.com/2019/01/google-trends-api.html\n",
    "\n",
    "https://ichi.pro/ko/pytrends-apileul-sayonghayeo-google-teulendeu-deiteoleul-eodneun-bangbeob-74185573051018"
   ]
  },
  {
   "cell_type": "markdown",
   "id": "e068e02d",
   "metadata": {},
   "source": [
    "<img src ='https://images.unsplash.com/photo-1520006403909-838d6b92c22e?crop=entropy&cs=tinysrgb&fm=jpg&ixlib=rb-1.2.1&q=60&raw_url=true&ixid=MnwxMjA3fDB8MHxzZWFyY2h8Mnx8ZmFzaGlvbiUyMHRyZW5kc3xlbnwwfHwwfHw%3D&auto=format&fit=crop&w=500'>"
   ]
  },
  {
   "cell_type": "code",
   "execution_count": 1,
   "id": "21d757ce",
   "metadata": {},
   "outputs": [
    {
     "data": {
      "text/html": [
       "<style>.container { width:100% !important; }</style>"
      ],
      "text/plain": [
       "<IPython.core.display.HTML object>"
      ]
     },
     "metadata": {},
     "output_type": "display_data"
    }
   ],
   "source": [
    "from IPython.core.interactiveshell import InteractiveShell # 모든 명령어 출력\n",
    "InteractiveShell.ast_node_interactivity = 'all'\n",
    "from IPython.core.display import display, HTML # 화면 좌우 크기 100%\n",
    "display(HTML(\"<style>.container { width:100% !important; }</style>\"))\n",
    "import warnings # 파이썬 버전에 따른 오류 출력 방지\n",
    "warnings.filterwarnings('ignore')\n",
    "\n",
    "import matplotlib.pylab as plt\n",
    "%matplotlib inline\n",
    "plt.rcParams['font.family']='Malgun Gothic'\n",
    "plt.rcParams['axes.unicode_minus'] = False #한글 폰트 사용시 마이너스 폰트 깨짐 해결"
   ]
  },
  {
   "cell_type": "code",
   "execution_count": 2,
   "id": "67bf5025",
   "metadata": {},
   "outputs": [],
   "source": [
    "from pytrends.request import TrendReq\n",
    "import pandas as pd"
   ]
  },
  {
   "cell_type": "code",
   "execution_count": 3,
   "id": "e6e9e30c",
   "metadata": {},
   "outputs": [],
   "source": [
    "# hl = host language, tz = timezone\n",
    "pytrends = TrendReq(hl='ko', tz=540)"
   ]
  },
  {
   "cell_type": "code",
   "execution_count": 4,
   "id": "6d9fccd3",
   "metadata": {},
   "outputs": [
    {
     "data": {
      "text/html": [
       "<div>\n",
       "<style scoped>\n",
       "    .dataframe tbody tr th:only-of-type {\n",
       "        vertical-align: middle;\n",
       "    }\n",
       "\n",
       "    .dataframe tbody tr th {\n",
       "        vertical-align: top;\n",
       "    }\n",
       "\n",
       "    .dataframe thead th {\n",
       "        text-align: right;\n",
       "    }\n",
       "</style>\n",
       "<table border=\"1\" class=\"dataframe\">\n",
       "  <thead>\n",
       "    <tr style=\"text-align: right;\">\n",
       "      <th></th>\n",
       "      <th>0</th>\n",
       "    </tr>\n",
       "  </thead>\n",
       "  <tbody>\n",
       "    <tr>\n",
       "      <th>0</th>\n",
       "      <td>40대여배우 살인미수</td>\n",
       "    </tr>\n",
       "    <tr>\n",
       "      <th>1</th>\n",
       "      <td>송강호</td>\n",
       "    </tr>\n",
       "    <tr>\n",
       "      <th>2</th>\n",
       "      <td>채영인</td>\n",
       "    </tr>\n",
       "    <tr>\n",
       "      <th>3</th>\n",
       "      <td>장윤주</td>\n",
       "    </tr>\n",
       "    <tr>\n",
       "      <th>4</th>\n",
       "      <td>강남</td>\n",
       "    </tr>\n",
       "    <tr>\n",
       "      <th>5</th>\n",
       "      <td>하이브</td>\n",
       "    </tr>\n",
       "    <tr>\n",
       "      <th>6</th>\n",
       "      <td>추성훈</td>\n",
       "    </tr>\n",
       "    <tr>\n",
       "      <th>7</th>\n",
       "      <td>버즈 라이트이어</td>\n",
       "    </tr>\n",
       "    <tr>\n",
       "      <th>8</th>\n",
       "      <td>비상선언</td>\n",
       "    </tr>\n",
       "    <tr>\n",
       "      <th>9</th>\n",
       "      <td>공구우먼</td>\n",
       "    </tr>\n",
       "    <tr>\n",
       "      <th>10</th>\n",
       "      <td>한국 이집트</td>\n",
       "    </tr>\n",
       "    <tr>\n",
       "      <th>11</th>\n",
       "      <td>김어준</td>\n",
       "    </tr>\n",
       "    <tr>\n",
       "      <th>12</th>\n",
       "      <td>진중권</td>\n",
       "    </tr>\n",
       "    <tr>\n",
       "      <th>13</th>\n",
       "      <td>스포츠</td>\n",
       "    </tr>\n",
       "    <tr>\n",
       "      <th>14</th>\n",
       "      <td>지드래곤</td>\n",
       "    </tr>\n",
       "    <tr>\n",
       "      <th>15</th>\n",
       "      <td>장민호</td>\n",
       "    </tr>\n",
       "    <tr>\n",
       "      <th>16</th>\n",
       "      <td>조지환</td>\n",
       "    </tr>\n",
       "    <tr>\n",
       "      <th>17</th>\n",
       "      <td>CJ대한통운</td>\n",
       "    </tr>\n",
       "    <tr>\n",
       "      <th>18</th>\n",
       "      <td>비트코인</td>\n",
       "    </tr>\n",
       "    <tr>\n",
       "      <th>19</th>\n",
       "      <td>환율</td>\n",
       "    </tr>\n",
       "  </tbody>\n",
       "</table>\n",
       "</div>"
      ],
      "text/plain": [
       "              0\n",
       "0   40대여배우 살인미수\n",
       "1           송강호\n",
       "2           채영인\n",
       "3           장윤주\n",
       "4            강남\n",
       "5           하이브\n",
       "6           추성훈\n",
       "7      버즈 라이트이어\n",
       "8          비상선언\n",
       "9          공구우먼\n",
       "10       한국 이집트\n",
       "11          김어준\n",
       "12          진중권\n",
       "13          스포츠\n",
       "14         지드래곤\n",
       "15          장민호\n",
       "16          조지환\n",
       "17       CJ대한통운\n",
       "18         비트코인\n",
       "19           환율"
      ]
     },
     "execution_count": 4,
     "metadata": {},
     "output_type": "execute_result"
    }
   ],
   "source": [
    "pytrends.trending_searches(pn='south_korea')"
   ]
  },
  {
   "cell_type": "markdown",
   "id": "ca38089d",
   "metadata": {},
   "source": [
    "- google trend data를 pandas data type으로 우선, build_payload를 통해 읽어올 trend data의 속성을 정의한다.\n",
    "- 이후 시간에 따른 키워드 관심도(interest_over_time)를 google trend에 요청하고, 해당 data를 pandas type\n",
    "\n",
    "- keywords = 4.에서 입력한 keywords와 동일하다.\n",
    "- cat = 카테고리 범주. 내 검색 데이터를 가져올 때, 내 데이터가 속한 범주를 제한하는 인자다. 카테고리 참조. 0을 입력하면 카테고리 범주 옵션을 사용하지 않는다는 뜻이다.\n",
    "- timeframe : 내가 읽어올 data의 범위(기간)이다.\n",
    "   (1) 'today #-y' : 현재 시간으로 부터 몇 년 이내의 범위를 가져온다는 뜻이다. -m, -d -H등으로 바꿔서 몇 월, 몇 일, 몇 시간 이내의 데이터를 가져올 수 있으나, (아마 구글에서) 월, 일 ,시간으로 줄 수 있는 숫자를 제한해 둔 것으로 보인다. (월은 1 ~ 3, 일은 1일 / 7일 , 시간은 1시간, 4시간 에서 밖에 제대로 동작이 안 되는 듯 하다)참조 링크.\n",
    "- geo = 데이터를 수집할 국가 코드다. 마찬가지로 한국일 경우 'KR'을 입력하면 된다.\n",
    "- gprop = 어디에서 데이터를 읽어올 지에 관련된 인자다.\n",
    " image, news, youtube , froggle(구글 쇼핑 데이터 정보)를 입력할 수 있으며, 미 입력 시 모든 곳에서 데이터를 가져온다.\n"
   ]
  },
  {
   "cell_type": "code",
   "execution_count": 7,
   "id": "af136581",
   "metadata": {},
   "outputs": [
    {
     "data": {
      "text/html": [
       "<div>\n",
       "<style scoped>\n",
       "    .dataframe tbody tr th:only-of-type {\n",
       "        vertical-align: middle;\n",
       "    }\n",
       "\n",
       "    .dataframe tbody tr th {\n",
       "        vertical-align: top;\n",
       "    }\n",
       "\n",
       "    .dataframe thead th {\n",
       "        text-align: right;\n",
       "    }\n",
       "</style>\n",
       "<table border=\"1\" class=\"dataframe\">\n",
       "  <thead>\n",
       "    <tr style=\"text-align: right;\">\n",
       "      <th></th>\n",
       "      <th>김치</th>\n",
       "      <th>식중독</th>\n",
       "      <th>isPartial</th>\n",
       "    </tr>\n",
       "    <tr>\n",
       "      <th>date</th>\n",
       "      <th></th>\n",
       "      <th></th>\n",
       "      <th></th>\n",
       "    </tr>\n",
       "  </thead>\n",
       "  <tbody>\n",
       "    <tr>\n",
       "      <th>2017-06-18</th>\n",
       "      <td>41</td>\n",
       "      <td>2</td>\n",
       "      <td>False</td>\n",
       "    </tr>\n",
       "    <tr>\n",
       "      <th>2017-06-25</th>\n",
       "      <td>40</td>\n",
       "      <td>1</td>\n",
       "      <td>False</td>\n",
       "    </tr>\n",
       "    <tr>\n",
       "      <th>2017-07-02</th>\n",
       "      <td>42</td>\n",
       "      <td>2</td>\n",
       "      <td>False</td>\n",
       "    </tr>\n",
       "    <tr>\n",
       "      <th>2017-07-09</th>\n",
       "      <td>45</td>\n",
       "      <td>1</td>\n",
       "      <td>False</td>\n",
       "    </tr>\n",
       "    <tr>\n",
       "      <th>2017-07-16</th>\n",
       "      <td>39</td>\n",
       "      <td>2</td>\n",
       "      <td>False</td>\n",
       "    </tr>\n",
       "    <tr>\n",
       "      <th>...</th>\n",
       "      <td>...</td>\n",
       "      <td>...</td>\n",
       "      <td>...</td>\n",
       "    </tr>\n",
       "    <tr>\n",
       "      <th>2022-05-15</th>\n",
       "      <td>56</td>\n",
       "      <td>3</td>\n",
       "      <td>False</td>\n",
       "    </tr>\n",
       "    <tr>\n",
       "      <th>2022-05-22</th>\n",
       "      <td>55</td>\n",
       "      <td>3</td>\n",
       "      <td>False</td>\n",
       "    </tr>\n",
       "    <tr>\n",
       "      <th>2022-05-29</th>\n",
       "      <td>55</td>\n",
       "      <td>2</td>\n",
       "      <td>False</td>\n",
       "    </tr>\n",
       "    <tr>\n",
       "      <th>2022-06-05</th>\n",
       "      <td>53</td>\n",
       "      <td>2</td>\n",
       "      <td>False</td>\n",
       "    </tr>\n",
       "    <tr>\n",
       "      <th>2022-06-12</th>\n",
       "      <td>52</td>\n",
       "      <td>0</td>\n",
       "      <td>True</td>\n",
       "    </tr>\n",
       "  </tbody>\n",
       "</table>\n",
       "<p>261 rows × 3 columns</p>\n",
       "</div>"
      ],
      "text/plain": [
       "            김치  식중독 isPartial\n",
       "date                         \n",
       "2017-06-18  41    2     False\n",
       "2017-06-25  40    1     False\n",
       "2017-07-02  42    2     False\n",
       "2017-07-09  45    1     False\n",
       "2017-07-16  39    2     False\n",
       "...         ..  ...       ...\n",
       "2022-05-15  56    3     False\n",
       "2022-05-22  55    3     False\n",
       "2022-05-29  55    2     False\n",
       "2022-06-05  53    2     False\n",
       "2022-06-12  52    0      True\n",
       "\n",
       "[261 rows x 3 columns]"
      ]
     },
     "execution_count": 7,
     "metadata": {},
     "output_type": "execute_result"
    }
   ],
   "source": [
    "# build list of keywords\n",
    "kw_list = ['김치', '식중독'] \n",
    "\n",
    "# build the payload\n",
    "#pytrends.build_payload(kw_list, timeframe='2015-01-01 2021-01-01', geo='KR')\n",
    "\n",
    "pytrends.build_payload(kw_list, timeframe='today 5-y', geo='KR')\n",
    "\n",
    "# store interest over time information in df\n",
    "df = pytrends.interest_over_time()\n",
    "df"
   ]
  },
  {
   "cell_type": "code",
   "execution_count": 10,
   "id": "a9290b90",
   "metadata": {},
   "outputs": [
    {
     "data": {
      "text/plain": [
       "<Figure size 1440x216 with 0 Axes>"
      ]
     },
     "execution_count": 10,
     "metadata": {},
     "output_type": "execute_result"
    },
    {
     "data": {
      "text/plain": [
       "[<matplotlib.lines.Line2D at 0x22e1a433af0>]"
      ]
     },
     "execution_count": 10,
     "metadata": {},
     "output_type": "execute_result"
    },
    {
     "data": {
      "text/plain": [
       "[<matplotlib.lines.Line2D at 0x22e1a444be0>]"
      ]
     },
     "execution_count": 10,
     "metadata": {},
     "output_type": "execute_result"
    },
    {
     "data": {
      "text/plain": [
       "<matplotlib.legend.Legend at 0x22e1a451b50>"
      ]
     },
     "execution_count": 10,
     "metadata": {},
     "output_type": "execute_result"
    },
    {
     "data": {
      "image/png": "[encoded data removed]",
      "text/plain": [
       "<Figure size 1440x216 with 1 Axes>"
      ]
     },
     "metadata": {
      "needs_background": "light"
     },
     "output_type": "display_data"
    }
   ],
   "source": [
    "# import matplotlib plotting module to visualize data (make sure matplotlib is installed using pip)\n",
    "import matplotlib.pyplot as plt\n",
    "\n",
    "# plot all three trends in same chart\n",
    "plt.figure(figsize=(20,3))\n",
    "plt.plot(df.index,df.식중독,'r*')\n",
    "plt.plot(df.index,df.김치,'b*')\n",
    "plt.legend([\"식중독\", \"김치\"])"
   ]
  },
  {
   "cell_type": "code",
   "execution_count": null,
   "id": "b7ccec63",
   "metadata": {},
   "outputs": [],
   "source": []
  },
  {
   "cell_type": "code",
   "execution_count": 5,
   "id": "85dae8cc",
   "metadata": {},
   "outputs": [],
   "source": [
    "# import the TrendReq method from the pytrends request module\n",
    "from pytrends.request import TrendReq\n",
    "\n",
    "# execute the TrendReq method by passing the host language (hl) and timezone (tz) parameters\n",
    "pytrends = TrendReq(hl='en-US', tz=360)"
   ]
  },
  {
   "cell_type": "code",
   "execution_count": 39,
   "id": "fb8a0cfa",
   "metadata": {},
   "outputs": [],
   "source": [
    "TrendReq?"
   ]
  },
  {
   "cell_type": "code",
   "execution_count": 6,
   "id": "f30b3657",
   "metadata": {},
   "outputs": [],
   "source": [
    "# build list of keywords\n",
    "kw_list = [\"ai\", \"chicken\", \"space\"] \n",
    "\n",
    "# build the payload\n",
    "pytrends.build_payload(kw_list, timeframe='2015-01-01 2021-01-01', geo='US')"
   ]
  },
  {
   "cell_type": "code",
   "execution_count": 7,
   "id": "e06e23bc",
   "metadata": {},
   "outputs": [],
   "source": [
    "# import pandas module\n",
    "import pandas as pd\n",
    "\n",
    "# store interest over time information in df\n",
    "df = pytrends.interest_over_time()"
   ]
  },
  {
   "cell_type": "code",
   "execution_count": 9,
   "id": "d88988d2",
   "metadata": {},
   "outputs": [
    {
     "data": {
      "text/html": [
       "<div>\n",
       "<style scoped>\n",
       "    .dataframe tbody tr th:only-of-type {\n",
       "        vertical-align: middle;\n",
       "    }\n",
       "\n",
       "    .dataframe tbody tr th {\n",
       "        vertical-align: top;\n",
       "    }\n",
       "\n",
       "    .dataframe thead th {\n",
       "        text-align: right;\n",
       "    }\n",
       "</style>\n",
       "<table border=\"1\" class=\"dataframe\">\n",
       "  <thead>\n",
       "    <tr style=\"text-align: right;\">\n",
       "      <th></th>\n",
       "      <th>ai</th>\n",
       "      <th>chicken</th>\n",
       "      <th>space</th>\n",
       "      <th>isPartial</th>\n",
       "    </tr>\n",
       "    <tr>\n",
       "      <th>date</th>\n",
       "      <th></th>\n",
       "      <th></th>\n",
       "      <th></th>\n",
       "      <th></th>\n",
       "    </tr>\n",
       "  </thead>\n",
       "  <tbody>\n",
       "    <tr>\n",
       "      <th>2015-01-01</th>\n",
       "      <td>3</td>\n",
       "      <td>65</td>\n",
       "      <td>30</td>\n",
       "      <td>False</td>\n",
       "    </tr>\n",
       "    <tr>\n",
       "      <th>2015-02-01</th>\n",
       "      <td>3</td>\n",
       "      <td>60</td>\n",
       "      <td>30</td>\n",
       "      <td>False</td>\n",
       "    </tr>\n",
       "    <tr>\n",
       "      <th>2015-03-01</th>\n",
       "      <td>2</td>\n",
       "      <td>56</td>\n",
       "      <td>27</td>\n",
       "      <td>False</td>\n",
       "    </tr>\n",
       "    <tr>\n",
       "      <th>2015-04-01</th>\n",
       "      <td>3</td>\n",
       "      <td>53</td>\n",
       "      <td>29</td>\n",
       "      <td>False</td>\n",
       "    </tr>\n",
       "    <tr>\n",
       "      <th>2015-05-01</th>\n",
       "      <td>2</td>\n",
       "      <td>51</td>\n",
       "      <td>27</td>\n",
       "      <td>False</td>\n",
       "    </tr>\n",
       "    <tr>\n",
       "      <th>...</th>\n",
       "      <td>...</td>\n",
       "      <td>...</td>\n",
       "      <td>...</td>\n",
       "      <td>...</td>\n",
       "    </tr>\n",
       "    <tr>\n",
       "      <th>2020-09-01</th>\n",
       "      <td>4</td>\n",
       "      <td>81</td>\n",
       "      <td>28</td>\n",
       "      <td>False</td>\n",
       "    </tr>\n",
       "    <tr>\n",
       "      <th>2020-10-01</th>\n",
       "      <td>3</td>\n",
       "      <td>83</td>\n",
       "      <td>32</td>\n",
       "      <td>False</td>\n",
       "    </tr>\n",
       "    <tr>\n",
       "      <th>2020-11-01</th>\n",
       "      <td>3</td>\n",
       "      <td>81</td>\n",
       "      <td>26</td>\n",
       "      <td>False</td>\n",
       "    </tr>\n",
       "    <tr>\n",
       "      <th>2020-12-01</th>\n",
       "      <td>4</td>\n",
       "      <td>81</td>\n",
       "      <td>26</td>\n",
       "      <td>False</td>\n",
       "    </tr>\n",
       "    <tr>\n",
       "      <th>2021-01-01</th>\n",
       "      <td>4</td>\n",
       "      <td>94</td>\n",
       "      <td>26</td>\n",
       "      <td>False</td>\n",
       "    </tr>\n",
       "  </tbody>\n",
       "</table>\n",
       "<p>73 rows × 4 columns</p>\n",
       "</div>"
      ],
      "text/plain": [
       "            ai  chicken  space  isPartial\n",
       "date                                     \n",
       "2015-01-01   3       65     30      False\n",
       "2015-02-01   3       60     30      False\n",
       "2015-03-01   2       56     27      False\n",
       "2015-04-01   3       53     29      False\n",
       "2015-05-01   2       51     27      False\n",
       "...         ..      ...    ...        ...\n",
       "2020-09-01   4       81     28      False\n",
       "2020-10-01   3       83     32      False\n",
       "2020-11-01   3       81     26      False\n",
       "2020-12-01   4       81     26      False\n",
       "2021-01-01   4       94     26      False\n",
       "\n",
       "[73 rows x 4 columns]"
      ]
     },
     "execution_count": 9,
     "metadata": {},
     "output_type": "execute_result"
    }
   ],
   "source": [
    "df"
   ]
  },
  {
   "cell_type": "code",
   "execution_count": 10,
   "id": "52a5f369",
   "metadata": {},
   "outputs": [
    {
     "data": {
      "text/plain": [
       "<matplotlib.legend.Legend at 0x1db1acad160>"
      ]
     },
     "execution_count": 10,
     "metadata": {},
     "output_type": "execute_result"
    },
    {
     "data": {
      "image/png": "[encoded data removed]",
      "text/plain": [
       "<Figure size 432x288 with 1 Axes>"
      ]
     },
     "metadata": {
      "needs_background": "light"
     },
     "output_type": "display_data"
    }
   ],
   "source": [
    "# import matplotlib plotting module to visualize data (make sure matplotlib is installed using pip)\n",
    "import matplotlib.pyplot as plt\n",
    "\n",
    "# plot all three trends in same chart\n",
    "plt.figure()\n",
    "plt.plot(df.index,df.ai,'k*')\n",
    "plt.plot(df.index,df.chicken,'r*')\n",
    "plt.plot(df.index,df.space,'b*')\n",
    "plt.legend(['ai','chicken','space'])"
   ]
  },
  {
   "cell_type": "code",
   "execution_count": 12,
   "id": "feea266e",
   "metadata": {},
   "outputs": [
    {
     "data": {
      "text/plain": [
       "<matplotlib.legend.Legend at 0x1db1adc9940>"
      ]
     },
     "execution_count": 12,
     "metadata": {},
     "output_type": "execute_result"
    },
    {
     "data": {
      "image/png": "[encoded data removed]",
      "text/plain": [
       "<Figure size 432x288 with 1 Axes>"
      ]
     },
     "metadata": {
      "needs_background": "light"
     },
     "output_type": "display_data"
    }
   ],
   "source": [
    "# build list of keywords\n",
    "kw_list = [\"chicken\", \"beef\", \"pork\", \"salmon\"] \n",
    "\n",
    "# build the payload\n",
    "pytrends.build_payload(kw_list, cat=None, timeframe='2015-01-01 2021-01-01', geo='US') \n",
    "\n",
    "# get the interest over time\n",
    "df = pytrends.interest_over_time()\n",
    "\n",
    "# plot food trends over time\n",
    "plt.figure()\n",
    "plt.plot(df.index,df.chicken,'k*')\n",
    "plt.plot(df.index,df.beef,'r*')\n",
    "plt.plot(df.index,df.pork,'b*')\n",
    "plt.plot(df.index,df.salmon,'g*')\n",
    "plt.legend(['chicken','beef','pork','salmon'])\n"
   ]
  },
  {
   "cell_type": "code",
   "execution_count": 13,
   "id": "a63f9666",
   "metadata": {},
   "outputs": [
    {
     "data": {
      "text/plain": [
       "<matplotlib.legend.Legend at 0x1db1ae1caf0>"
      ]
     },
     "execution_count": 13,
     "metadata": {},
     "output_type": "execute_result"
    },
    {
     "data": {
      "image/png": "[encoded data removed]",
      "text/plain": [
       "<Figure size 432x288 with 1 Axes>"
      ]
     },
     "metadata": {
      "needs_background": "light"
     },
     "output_type": "display_data"
    }
   ],
   "source": [
    "# plot normalized food trends over time\n",
    "plt.figure()\n",
    "plt.plot(df.index,df.chicken/df.chicken.iloc[0],'k*')\n",
    "plt.plot(df.index,df.beef/df.beef.iloc[0],'r*')\n",
    "plt.plot(df.index,df.pork/df.pork.iloc[0],'b*')\n",
    "plt.plot(df.index,df.salmon/df.salmon.iloc[0],'g*')\n",
    "plt.legend(['chicken','beef','pork','salmon'])"
   ]
  },
  {
   "cell_type": "code",
   "execution_count": 14,
   "id": "de8bb499",
   "metadata": {},
   "outputs": [],
   "source": [
    "# build the payload\n",
    "pytrends.build_payload(kw_list=['chicken'], timeframe='2015-01-01 2021-01-01', geo='US') \n",
    "\n",
    "# get related topics\n",
    "df_rt = pytrends.related_topics()"
   ]
  },
  {
   "cell_type": "code",
   "execution_count": 16,
   "id": "c7ab64c1",
   "metadata": {},
   "outputs": [
    {
     "name": "stdout",
     "output_type": "stream",
     "text": [
      "{'chicken': {'rising':      value formattedValue                                               link  \\\n",
      "0   122600       Breakout  /trends/explore?q=/g/11f2wjbq6z&date=2015-01-0...   \n",
      "1    19850       Breakout  /trends/explore?q=/g/11n5zkvv22&date=2015-01-0...   \n",
      "2     4900        +4,900%  /trends/explore?q=/m/012l6kq_&date=2015-01-01+...   \n",
      "3      700          +700%  /trends/explore?q=/m/080hx6n&date=2015-01-01+2...   \n",
      "4      700          +700%  /trends/explore?q=/m/0130rtg7&date=2015-01-01+...   \n",
      "5      350          +350%  /trends/explore?q=/m/0422xx&date=2015-01-01+20...   \n",
      "6      250          +250%  /trends/explore?q=/m/03rt3y&date=2015-01-01+20...   \n",
      "7      200          +200%  /trends/explore?q=/m/0423gr&date=2015-01-01+20...   \n",
      "8      120          +120%  /trends/explore?q=/m/0dxmm&date=2015-01-01+202...   \n",
      "9       90           +90%  /trends/explore?q=/m/03gq8yn&date=2015-01-01+2...   \n",
      "10      90           +90%  /trends/explore?q=/m/0k5stv1&date=2015-01-01+2...   \n",
      "11      80           +80%  /trends/explore?q=/g/11h1hvxwsj&date=2015-01-0...   \n",
      "12      70           +70%  /trends/explore?q=/m/02w3c7&date=2015-01-01+20...   \n",
      "13      60           +60%  /trends/explore?q=/m/02fjhf&date=2015-01-01+20...   \n",
      "14      50           +50%  /trends/explore?q=/g/11btm9p2d_&date=2015-01-0...   \n",
      "15      50           +50%  /trends/explore?q=/m/0l515&date=2015-01-01+202...   \n",
      "16      50           +50%  /trends/explore?q=/m/04g73n&date=2015-01-01+20...   \n",
      "17      40           +40%  /trends/explore?q=/m/050lqd&date=2015-01-01+20...   \n",
      "18      40           +40%  /trends/explore?q=/m/02r_4gm&date=2015-01-01+2...   \n",
      "19      40           +40%  /trends/explore?q=/m/0dwpk&date=2015-01-01+202...   \n",
      "\n",
      "        topic_mid                                        topic_title  \\\n",
      "0   /g/11f2wjbq6z                                        Instant Pot   \n",
      "1   /g/11n5zkvv22                                  Air fryer chicken   \n",
      "2     /m/012l6kq_                                          Air fryer   \n",
      "3      /m/080hx6n                                        Hot chicken   \n",
      "4     /m/0130rtg7                                Chicken Salad Chick   \n",
      "5       /m/0422xx                     Raising Cane's Chicken Fingers   \n",
      "6       /m/03rt3y                                   Church's Chicken   \n",
      "7       /m/0423gr                                         Deep fryer   \n",
      "8        /m/0dxmm                                   Pressure cooking   \n",
      "9      /m/03gq8yn                                   Chicken sandwich   \n",
      "10     /m/0k5stv1                                     Chicken Thighs   \n",
      "11  /g/11h1hvxwsj                                     Frozen Chicken   \n",
      "12      /m/02w3c7                                     Butter chicken   \n",
      "13      /m/02fjhf                                     Chicken nugget   \n",
      "14  /g/11btm9p2d_  The Skinnytaste Cookbook: Light on Calories, B...   \n",
      "15       /m/0l515                                           Sandwich   \n",
      "16      /m/04g73n                                     Chicken Little   \n",
      "17      /m/050lqd                                    Chicken fingers   \n",
      "18     /m/02r_4gm                               Crispy fried chicken   \n",
      "19       /m/0dwpk                                          Seasoning   \n",
      "\n",
      "                      topic_type  \n",
      "0                          Topic  \n",
      "1                           Food  \n",
      "2                          Topic  \n",
      "3                           Food  \n",
      "4             Restaurant company  \n",
      "5   Fast food restaurant company  \n",
      "6   Fast food restaurant company  \n",
      "7                          Topic  \n",
      "8                          Topic  \n",
      "9                          Topic  \n",
      "10                       Chicken  \n",
      "11                         Topic  \n",
      "12                          Food  \n",
      "13                          Food  \n",
      "14          Book by Gina Homolka  \n",
      "15                  Type of dish  \n",
      "16                     2005 film  \n",
      "17                          Food  \n",
      "18                          Dish  \n",
      "19                          Food  , 'top':     value formattedValue  hasData  \\\n",
      "0     100            100     True   \n",
      "1      41             41     True   \n",
      "2      27             27     True   \n",
      "3       9              9     True   \n",
      "4       8              8     True   \n",
      "5       8              8     True   \n",
      "6       7              7     True   \n",
      "7       7              7     True   \n",
      "8       7              7     True   \n",
      "9       6              6     True   \n",
      "10      5              5     True   \n",
      "11      5              5     True   \n",
      "12      4              4     True   \n",
      "13      4              4     True   \n",
      "14      4              4     True   \n",
      "15      4              4     True   \n",
      "16      4              4     True   \n",
      "17      3              3     True   \n",
      "18      3              3     True   \n",
      "19      3              3     True   \n",
      "20      3              3     True   \n",
      "21      3              3     True   \n",
      "22      3              3     True   \n",
      "23      3              3     True   \n",
      "24      3              3     True   \n",
      "\n",
      "                                                 link      topic_mid  \\\n",
      "0   /trends/explore?q=/m/0f25w9&date=2015-01-01+20...      /m/0f25w9   \n",
      "1   /trends/explore?q=/m/09b5t&date=2015-01-01+202...       /m/09b5t   \n",
      "2   /trends/explore?q=/m/0p57p&date=2015-01-01+202...       /m/0p57p   \n",
      "3   /trends/explore?q=/m/0dv34&date=2015-01-01+202...       /m/0dv34   \n",
      "4   /trends/explore?q=/m/01mtb&date=2015-01-01+202...       /m/01mtb   \n",
      "5   /trends/explore?q=/m/01z1m1x&date=2015-01-01+2...     /m/01z1m1x   \n",
      "6   /trends/explore?q=/m/02tsc9&date=2015-01-01+20...      /m/02tsc9   \n",
      "7   /trends/explore?q=/m/0qf0c&date=2015-01-01+202...       /m/0qf0c   \n",
      "8   /trends/explore?q=/m/0k5sv46&date=2015-01-01+2...     /m/0k5sv46   \n",
      "9   /trends/explore?q=/m/0dxrf&date=2015-01-01+202...       /m/0dxrf   \n",
      "10  /trends/explore?q=/m/01px4b&date=2015-01-01+20...      /m/01px4b   \n",
      "11  /trends/explore?q=/m/0grw1&date=2015-01-01+202...       /m/0grw1   \n",
      "12  /trends/explore?q=/m/0dxlf&date=2015-01-01+202...       /m/0dxlf   \n",
      "13  /trends/explore?q=/m/01wv2&date=2015-01-01+202...       /m/01wv2   \n",
      "14  /trends/explore?q=/m/03d1mf&date=2015-01-01+20...      /m/03d1mf   \n",
      "15  /trends/explore?q=/g/121gvdg7&date=2015-01-01+...    /g/121gvdg7   \n",
      "16  /trends/explore?q=/m/0ckmp&date=2015-01-01+202...       /m/0ckmp   \n",
      "17  /trends/explore?q=/m/050lqd&date=2015-01-01+20...      /m/050lqd   \n",
      "18  /trends/explore?q=/m/0k5stv1&date=2015-01-01+2...     /m/0k5stv1   \n",
      "19  /trends/explore?q=/m/0l515&date=2015-01-01+202...       /m/0l515   \n",
      "20  /trends/explore?q=/g/11f2wjbq6z&date=2015-01-0...  /g/11f2wjbq6z   \n",
      "21  /trends/explore?q=/m/0grqz&date=2015-01-01+202...       /m/0grqz   \n",
      "22  /trends/explore?q=/g/11j3t_r3_5&date=2015-01-0...  /g/11j3t_r3_5   \n",
      "23  /trends/explore?q=/m/0blx4c&date=2015-01-01+20...      /m/0blx4c   \n",
      "24  /trends/explore?q=/m/039jpz&date=2015-01-01+20...      /m/039jpz   \n",
      "\n",
      "               topic_title         topic_type  \n",
      "0                  Chicken            Poultry  \n",
      "1                  Chicken              Birds  \n",
      "2                   Recipe              Topic  \n",
      "3                   Baking              Topic  \n",
      "4                  Cooking              Topic  \n",
      "5                     Soup       Type of dish  \n",
      "6              Slow cooker  Cooking appliance  \n",
      "7             Buffalo wing            Chicken  \n",
      "8           Chicken breast            Chicken  \n",
      "9                   Frying               Food  \n",
      "10           Fried chicken            Chicken  \n",
      "11                   Salad       Type of dish  \n",
      "12                Grilling              Topic  \n",
      "13                 Calorie              Topic  \n",
      "14           Roast chicken               Food  \n",
      "15                    Oven      Culinary tool  \n",
      "16            Chicken soup               Soup  \n",
      "17         Chicken fingers               Food  \n",
      "18          Chicken Thighs            Chicken  \n",
      "19                Sandwich       Type of dish  \n",
      "20             Instant Pot              Topic  \n",
      "21                   Sauce        Table sauce  \n",
      "22  pechuga de pollo asada               Food  \n",
      "23           Chicken salad               Food  \n",
      "24               Casserole       Type of dish  }}\n"
     ]
    }
   ],
   "source": [
    "print(df_rt)"
   ]
  },
  {
   "cell_type": "code",
   "execution_count": 17,
   "id": "dc4a1852",
   "metadata": {},
   "outputs": [
    {
     "data": {
      "text/html": [
       "<div>\n",
       "<style scoped>\n",
       "    .dataframe tbody tr th:only-of-type {\n",
       "        vertical-align: middle;\n",
       "    }\n",
       "\n",
       "    .dataframe tbody tr th {\n",
       "        vertical-align: top;\n",
       "    }\n",
       "\n",
       "    .dataframe thead th {\n",
       "        text-align: right;\n",
       "    }\n",
       "</style>\n",
       "<table border=\"1\" class=\"dataframe\">\n",
       "  <thead>\n",
       "    <tr style=\"text-align: right;\">\n",
       "      <th></th>\n",
       "      <th>chicken</th>\n",
       "    </tr>\n",
       "  </thead>\n",
       "  <tbody>\n",
       "    <tr>\n",
       "      <th>rising</th>\n",
       "      <td>value formattedValue                     ...</td>\n",
       "    </tr>\n",
       "    <tr>\n",
       "      <th>top</th>\n",
       "      <td>value formattedValue  hasData  \\\n",
       "0     100...</td>\n",
       "    </tr>\n",
       "  </tbody>\n",
       "</table>\n",
       "</div>"
      ],
      "text/plain": [
       "                                                  chicken\n",
       "rising       value formattedValue                     ...\n",
       "top         value formattedValue  hasData  \\\n",
       "0     100..."
      ]
     },
     "execution_count": 17,
     "metadata": {},
     "output_type": "execute_result"
    }
   ],
   "source": [
    "pd.DataFrame(df_rt)"
   ]
  },
  {
   "cell_type": "code",
   "execution_count": 19,
   "id": "b300e046",
   "metadata": {},
   "outputs": [
    {
     "name": "stdout",
     "output_type": "stream",
     "text": [
      "    value formattedValue                                               link  \\\n",
      "0  122600       Breakout  /trends/explore?q=/g/11f2wjbq6z&date=2015-01-0...   \n",
      "1   19850       Breakout  /trends/explore?q=/g/11n5zkvv22&date=2015-01-0...   \n",
      "2    4900        +4,900%  /trends/explore?q=/m/012l6kq_&date=2015-01-01+...   \n",
      "3     700          +700%  /trends/explore?q=/m/080hx6n&date=2015-01-01+2...   \n",
      "4     700          +700%  /trends/explore?q=/m/0130rtg7&date=2015-01-01+...   \n",
      "\n",
      "       topic_mid          topic_title          topic_type  \n",
      "0  /g/11f2wjbq6z          Instant Pot               Topic  \n",
      "1  /g/11n5zkvv22    Air fryer chicken                Food  \n",
      "2    /m/012l6kq_            Air fryer               Topic  \n",
      "3     /m/080hx6n          Hot chicken                Food  \n",
      "4    /m/0130rtg7  Chicken Salad Chick  Restaurant company  \n"
     ]
    }
   ],
   "source": [
    "# display top 5 rising results for the chicken keyword\n",
    "print(df_rt['chicken']['rising'].head(5))"
   ]
  },
  {
   "cell_type": "code",
   "execution_count": null,
   "id": "d4c08ea8",
   "metadata": {},
   "outputs": [],
   "source": []
  }
 ],
 "metadata": {
  "kernelspec": {
   "display_name": "Python 3",
   "language": "python",
   "name": "python3"
  },
  "language_info": {
   "codemirror_mode": {
    "name": "ipython",
    "version": 3
   },
   "file_extension": ".py",
   "mimetype": "text/x-python",
   "name": "python",
   "nbconvert_exporter": "python",
   "pygments_lexer": "ipython3",
   "version": "3.8.8"
  }
 },
 "nbformat": 4,
 "nbformat_minor": 5
}
