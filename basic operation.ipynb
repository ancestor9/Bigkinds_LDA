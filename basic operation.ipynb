{
 "cells": [
  {
   "cell_type": "code",
   "execution_count": 1,
   "id": "e6665eb9",
   "metadata": {},
   "outputs": [
    {
     "data": {
      "text/html": [
       "<style>.container { width:100% !important; }</style>"
      ],
      "text/plain": [
       "<IPython.core.display.HTML object>"
      ]
     },
     "metadata": {},
     "output_type": "display_data"
    }
   ],
   "source": [
    "from IPython.core.interactiveshell import InteractiveShell # 모든 명령어 출력\n",
    "InteractiveShell.ast_node_interactivity = 'all'\n",
    "from IPython.core.display import display, HTML # 화면 좌우 크기 100%\n",
    "display(HTML(\"<style>.container { width:100% !important; }</style>\"))\n",
    "import warnings # 파이썬 버전에 따른 오류 출력 방지\n",
    "warnings.filterwarnings('ignore')\n",
    "\n",
    "import matplotlib.pylab as plt\n",
    "\n",
    "%matplotlib inline\n",
    "plt.rcParams['font.family']='Malgun Gothic'\n",
    "plt.rcParams['axes.unicode_minus'] = False #한글 폰트 사용시 마이너스 폰트 깨짐 해결"
   ]
  },
  {
   "cell_type": "code",
   "execution_count": 18,
   "id": "ab2e58e4",
   "metadata": {},
   "outputs": [],
   "source": [
    "from sklearn.datasets import fetch_20newsgroups\n",
    "# LDA는 빈도수에만 기반하는 CountVectorizer사용함!\n",
    "from sklearn.feature_extraction.text import CountVectorizer\n",
    "from sklearn.decomposition import LatentDirichletAllocation\n",
    "\n",
    "# 주어진 데이터셋의 일부 카테고리 데이터만 추출하므로 카테고리 사전에 설정\n",
    "cats = ['rec.motorcycles', 'rec.sport.baseball', 'comp.graphics', 'comp.windows.x']\n",
    "# 설정해준 카테고리의 데이터들만 추출\n",
    "news_df = fetch_20newsgroups(subset='all', remove=('headers','footers','quotes'),\n",
    "                            categories=cats, random_state=12)\n",
    "# CountVectorizer로 텍스트 데이터들 단어 빈도수에 기반해 벡터화시키기(fit_transform까지!)\n",
    "count_vect = CountVectorizer(max_df=0.95, max_features=1000,\n",
    "                            min_df=2, stop_words='english',\n",
    "                            ngram_range=(1,2))\n",
    "ftr_vect = count_vect.fit_transform(news_df.data)"
   ]
  },
  {
   "cell_type": "code",
   "execution_count": 19,
   "id": "4ab338d9",
   "metadata": {},
   "outputs": [
    {
     "data": {
      "text/html": [
       "<div>\n",
       "<style scoped>\n",
       "    .dataframe tbody tr th:only-of-type {\n",
       "        vertical-align: middle;\n",
       "    }\n",
       "\n",
       "    .dataframe tbody tr th {\n",
       "        vertical-align: top;\n",
       "    }\n",
       "\n",
       "    .dataframe thead th {\n",
       "        text-align: right;\n",
       "    }\n",
       "</style>\n",
       "<table border=\"1\" class=\"dataframe\">\n",
       "  <thead>\n",
       "    <tr style=\"text-align: right;\">\n",
       "      <th></th>\n",
       "      <th>0</th>\n",
       "      <th>1</th>\n",
       "      <th>2</th>\n",
       "      <th>3</th>\n",
       "      <th>4</th>\n",
       "      <th>5</th>\n",
       "      <th>6</th>\n",
       "      <th>7</th>\n",
       "      <th>8</th>\n",
       "      <th>9</th>\n",
       "      <th>...</th>\n",
       "      <th>990</th>\n",
       "      <th>991</th>\n",
       "      <th>992</th>\n",
       "      <th>993</th>\n",
       "      <th>994</th>\n",
       "      <th>995</th>\n",
       "      <th>996</th>\n",
       "      <th>997</th>\n",
       "      <th>998</th>\n",
       "      <th>999</th>\n",
       "    </tr>\n",
       "  </thead>\n",
       "  <tbody>\n",
       "    <tr>\n",
       "      <th>0</th>\n",
       "      <td>0</td>\n",
       "      <td>0</td>\n",
       "      <td>0</td>\n",
       "      <td>0</td>\n",
       "      <td>0</td>\n",
       "      <td>0</td>\n",
       "      <td>0</td>\n",
       "      <td>0</td>\n",
       "      <td>0</td>\n",
       "      <td>0</td>\n",
       "      <td>...</td>\n",
       "      <td>0</td>\n",
       "      <td>0</td>\n",
       "      <td>0</td>\n",
       "      <td>0</td>\n",
       "      <td>0</td>\n",
       "      <td>0</td>\n",
       "      <td>0</td>\n",
       "      <td>0</td>\n",
       "      <td>0</td>\n",
       "      <td>0</td>\n",
       "    </tr>\n",
       "    <tr>\n",
       "      <th>1</th>\n",
       "      <td>0</td>\n",
       "      <td>0</td>\n",
       "      <td>0</td>\n",
       "      <td>0</td>\n",
       "      <td>0</td>\n",
       "      <td>0</td>\n",
       "      <td>0</td>\n",
       "      <td>0</td>\n",
       "      <td>0</td>\n",
       "      <td>0</td>\n",
       "      <td>...</td>\n",
       "      <td>0</td>\n",
       "      <td>0</td>\n",
       "      <td>0</td>\n",
       "      <td>0</td>\n",
       "      <td>0</td>\n",
       "      <td>0</td>\n",
       "      <td>0</td>\n",
       "      <td>0</td>\n",
       "      <td>0</td>\n",
       "      <td>0</td>\n",
       "    </tr>\n",
       "    <tr>\n",
       "      <th>2</th>\n",
       "      <td>0</td>\n",
       "      <td>0</td>\n",
       "      <td>0</td>\n",
       "      <td>0</td>\n",
       "      <td>0</td>\n",
       "      <td>0</td>\n",
       "      <td>0</td>\n",
       "      <td>0</td>\n",
       "      <td>0</td>\n",
       "      <td>0</td>\n",
       "      <td>...</td>\n",
       "      <td>0</td>\n",
       "      <td>0</td>\n",
       "      <td>0</td>\n",
       "      <td>0</td>\n",
       "      <td>0</td>\n",
       "      <td>0</td>\n",
       "      <td>0</td>\n",
       "      <td>0</td>\n",
       "      <td>0</td>\n",
       "      <td>0</td>\n",
       "    </tr>\n",
       "    <tr>\n",
       "      <th>3</th>\n",
       "      <td>0</td>\n",
       "      <td>0</td>\n",
       "      <td>0</td>\n",
       "      <td>0</td>\n",
       "      <td>0</td>\n",
       "      <td>0</td>\n",
       "      <td>0</td>\n",
       "      <td>0</td>\n",
       "      <td>0</td>\n",
       "      <td>0</td>\n",
       "      <td>...</td>\n",
       "      <td>0</td>\n",
       "      <td>0</td>\n",
       "      <td>0</td>\n",
       "      <td>0</td>\n",
       "      <td>0</td>\n",
       "      <td>0</td>\n",
       "      <td>1</td>\n",
       "      <td>0</td>\n",
       "      <td>0</td>\n",
       "      <td>0</td>\n",
       "    </tr>\n",
       "    <tr>\n",
       "      <th>4</th>\n",
       "      <td>0</td>\n",
       "      <td>0</td>\n",
       "      <td>0</td>\n",
       "      <td>1</td>\n",
       "      <td>0</td>\n",
       "      <td>0</td>\n",
       "      <td>0</td>\n",
       "      <td>0</td>\n",
       "      <td>0</td>\n",
       "      <td>0</td>\n",
       "      <td>...</td>\n",
       "      <td>0</td>\n",
       "      <td>0</td>\n",
       "      <td>0</td>\n",
       "      <td>0</td>\n",
       "      <td>1</td>\n",
       "      <td>1</td>\n",
       "      <td>0</td>\n",
       "      <td>0</td>\n",
       "      <td>0</td>\n",
       "      <td>0</td>\n",
       "    </tr>\n",
       "    <tr>\n",
       "      <th>...</th>\n",
       "      <td>...</td>\n",
       "      <td>...</td>\n",
       "      <td>...</td>\n",
       "      <td>...</td>\n",
       "      <td>...</td>\n",
       "      <td>...</td>\n",
       "      <td>...</td>\n",
       "      <td>...</td>\n",
       "      <td>...</td>\n",
       "      <td>...</td>\n",
       "      <td>...</td>\n",
       "      <td>...</td>\n",
       "      <td>...</td>\n",
       "      <td>...</td>\n",
       "      <td>...</td>\n",
       "      <td>...</td>\n",
       "      <td>...</td>\n",
       "      <td>...</td>\n",
       "      <td>...</td>\n",
       "      <td>...</td>\n",
       "      <td>...</td>\n",
       "    </tr>\n",
       "    <tr>\n",
       "      <th>3946</th>\n",
       "      <td>0</td>\n",
       "      <td>0</td>\n",
       "      <td>0</td>\n",
       "      <td>0</td>\n",
       "      <td>0</td>\n",
       "      <td>0</td>\n",
       "      <td>0</td>\n",
       "      <td>0</td>\n",
       "      <td>0</td>\n",
       "      <td>0</td>\n",
       "      <td>...</td>\n",
       "      <td>0</td>\n",
       "      <td>0</td>\n",
       "      <td>0</td>\n",
       "      <td>0</td>\n",
       "      <td>0</td>\n",
       "      <td>0</td>\n",
       "      <td>0</td>\n",
       "      <td>0</td>\n",
       "      <td>0</td>\n",
       "      <td>0</td>\n",
       "    </tr>\n",
       "    <tr>\n",
       "      <th>3947</th>\n",
       "      <td>0</td>\n",
       "      <td>0</td>\n",
       "      <td>0</td>\n",
       "      <td>0</td>\n",
       "      <td>0</td>\n",
       "      <td>0</td>\n",
       "      <td>0</td>\n",
       "      <td>0</td>\n",
       "      <td>0</td>\n",
       "      <td>0</td>\n",
       "      <td>...</td>\n",
       "      <td>0</td>\n",
       "      <td>0</td>\n",
       "      <td>0</td>\n",
       "      <td>0</td>\n",
       "      <td>0</td>\n",
       "      <td>0</td>\n",
       "      <td>0</td>\n",
       "      <td>0</td>\n",
       "      <td>0</td>\n",
       "      <td>0</td>\n",
       "    </tr>\n",
       "    <tr>\n",
       "      <th>3948</th>\n",
       "      <td>0</td>\n",
       "      <td>0</td>\n",
       "      <td>0</td>\n",
       "      <td>0</td>\n",
       "      <td>0</td>\n",
       "      <td>0</td>\n",
       "      <td>0</td>\n",
       "      <td>0</td>\n",
       "      <td>0</td>\n",
       "      <td>0</td>\n",
       "      <td>...</td>\n",
       "      <td>0</td>\n",
       "      <td>0</td>\n",
       "      <td>0</td>\n",
       "      <td>0</td>\n",
       "      <td>0</td>\n",
       "      <td>0</td>\n",
       "      <td>0</td>\n",
       "      <td>0</td>\n",
       "      <td>0</td>\n",
       "      <td>0</td>\n",
       "    </tr>\n",
       "    <tr>\n",
       "      <th>3949</th>\n",
       "      <td>0</td>\n",
       "      <td>0</td>\n",
       "      <td>0</td>\n",
       "      <td>0</td>\n",
       "      <td>0</td>\n",
       "      <td>0</td>\n",
       "      <td>0</td>\n",
       "      <td>0</td>\n",
       "      <td>0</td>\n",
       "      <td>0</td>\n",
       "      <td>...</td>\n",
       "      <td>0</td>\n",
       "      <td>0</td>\n",
       "      <td>0</td>\n",
       "      <td>0</td>\n",
       "      <td>0</td>\n",
       "      <td>0</td>\n",
       "      <td>0</td>\n",
       "      <td>0</td>\n",
       "      <td>0</td>\n",
       "      <td>0</td>\n",
       "    </tr>\n",
       "    <tr>\n",
       "      <th>3950</th>\n",
       "      <td>0</td>\n",
       "      <td>0</td>\n",
       "      <td>0</td>\n",
       "      <td>0</td>\n",
       "      <td>0</td>\n",
       "      <td>0</td>\n",
       "      <td>0</td>\n",
       "      <td>0</td>\n",
       "      <td>0</td>\n",
       "      <td>0</td>\n",
       "      <td>...</td>\n",
       "      <td>0</td>\n",
       "      <td>0</td>\n",
       "      <td>0</td>\n",
       "      <td>0</td>\n",
       "      <td>0</td>\n",
       "      <td>0</td>\n",
       "      <td>0</td>\n",
       "      <td>0</td>\n",
       "      <td>0</td>\n",
       "      <td>0</td>\n",
       "    </tr>\n",
       "  </tbody>\n",
       "</table>\n",
       "<p>3951 rows × 1000 columns</p>\n",
       "</div>"
      ],
      "text/plain": [
       "      0    1    2    3    4    5    6    7    8    9    ...  990  991  992  \\\n",
       "0       0    0    0    0    0    0    0    0    0    0  ...    0    0    0   \n",
       "1       0    0    0    0    0    0    0    0    0    0  ...    0    0    0   \n",
       "2       0    0    0    0    0    0    0    0    0    0  ...    0    0    0   \n",
       "3       0    0    0    0    0    0    0    0    0    0  ...    0    0    0   \n",
       "4       0    0    0    1    0    0    0    0    0    0  ...    0    0    0   \n",
       "...   ...  ...  ...  ...  ...  ...  ...  ...  ...  ...  ...  ...  ...  ...   \n",
       "3946    0    0    0    0    0    0    0    0    0    0  ...    0    0    0   \n",
       "3947    0    0    0    0    0    0    0    0    0    0  ...    0    0    0   \n",
       "3948    0    0    0    0    0    0    0    0    0    0  ...    0    0    0   \n",
       "3949    0    0    0    0    0    0    0    0    0    0  ...    0    0    0   \n",
       "3950    0    0    0    0    0    0    0    0    0    0  ...    0    0    0   \n",
       "\n",
       "      993  994  995  996  997  998  999  \n",
       "0       0    0    0    0    0    0    0  \n",
       "1       0    0    0    0    0    0    0  \n",
       "2       0    0    0    0    0    0    0  \n",
       "3       0    0    0    1    0    0    0  \n",
       "4       0    1    1    0    0    0    0  \n",
       "...   ...  ...  ...  ...  ...  ...  ...  \n",
       "3946    0    0    0    0    0    0    0  \n",
       "3947    0    0    0    0    0    0    0  \n",
       "3948    0    0    0    0    0    0    0  \n",
       "3949    0    0    0    0    0    0    0  \n",
       "3950    0    0    0    0    0    0    0  \n",
       "\n",
       "[3951 rows x 1000 columns]"
      ]
     },
     "execution_count": 19,
     "metadata": {},
     "output_type": "execute_result"
    }
   ],
   "source": [
    "pd.DataFrame(ftr_vect.toarray())"
   ]
  },
  {
   "cell_type": "code",
   "execution_count": 14,
   "id": "fc846c0a",
   "metadata": {},
   "outputs": [
    {
     "data": {
      "text/plain": [
       "LatentDirichletAllocation(n_components=8, random_state=42)"
      ]
     },
     "execution_count": 14,
     "metadata": {},
     "output_type": "execute_result"
    },
    {
     "name": "stdout",
     "output_type": "stream",
     "text": [
      "(8, 1000)\n",
      "[[4.21886779e+01 1.25077441e-01 1.03902744e+01 ... 3.28675046e+01\n",
      "  1.25032926e-01 2.23626159e+00]\n",
      " [3.31601110e+02 1.13269256e+02 1.62846341e+02 ... 1.38787171e-01\n",
      "  2.40125634e+02 3.98253576e+00]\n",
      " [1.27625269e-01 9.96794709e+01 1.25480119e-01 ... 7.24201742e+00\n",
      "  1.90971768e+01 5.07321349e+01]\n",
      " ...\n",
      " [1.25089768e-01 3.89851204e+01 1.25038018e-01 ... 2.14401784e+02\n",
      "  1.25058173e-01 9.50015891e+01]\n",
      " [1.25041718e-01 2.43565827e+02 1.25013778e-01 ... 2.25580117e+01\n",
      "  2.46882968e+01 4.56696629e+01]\n",
      " [1.25067731e-01 1.25058566e-01 1.25000680e-01 ... 1.20416570e+02\n",
      "  1.25047652e-01 3.96898176e+01]]\n"
     ]
    }
   ],
   "source": [
    "lda.fit(ftr_vect.toarray())\n",
    "# components_속성은 8개의 토픽별(row)로 1000개의 feature(단어)들의 분포수치(column)를 보여줌\n",
    "print(lda.components_.shape)\n",
    "print(lda.components_)"
   ]
  },
  {
   "cell_type": "code",
   "execution_count": 17,
   "id": "638aa043",
   "metadata": {},
   "outputs": [
    {
     "data": {
      "text/plain": [
       "<7862x1000 sparse matrix of type '<class 'numpy.int64'>'\n",
       "\twith 207349 stored elements in Compressed Sparse Row format>"
      ]
     },
     "execution_count": 17,
     "metadata": {},
     "output_type": "execute_result"
    },
    {
     "data": {
      "text/plain": [
       "<7862x1000 sparse matrix of type '<class 'numpy.int64'>'\n",
       "\twith 207349 stored elements in Compressed Sparse Row format>"
      ]
     },
     "execution_count": 17,
     "metadata": {},
     "output_type": "execute_result"
    }
   ],
   "source": [
    "from scipy import sparse\n",
    "sparse.csr_matrix(ftr_vect.toarray())\n",
    "ftr_vect"
   ]
  },
  {
   "cell_type": "code",
   "execution_count": 20,
   "id": "2d4523e3",
   "metadata": {},
   "outputs": [
    {
     "data": {
      "text/plain": [
       "LatentDirichletAllocation(n_components=3, random_state=42)"
      ]
     },
     "execution_count": 20,
     "metadata": {},
     "output_type": "execute_result"
    },
    {
     "name": "stdout",
     "output_type": "stream",
     "text": [
      "(3, 1000)\n",
      "[[6.69787701e+01 9.34123634e+00 1.96427080e+01 ... 1.34591107e+01\n",
      "  1.34113378e+01 2.44085190e+01]\n",
      " [3.39673670e+02 9.03246926e+01 7.00421968e+01 ... 8.41566455e+01\n",
      "  1.78348241e+00 1.11232577e+02]\n",
      " [3.47559519e-01 3.34071064e-01 3.53150951e+01 ... 3.84243843e-01\n",
      "  6.48051798e+01 3.58904440e-01]]\n"
     ]
    }
   ],
   "source": [
    "# LDA클래스를 이용해서 피처 벡터화시킨 것을 토픽모델링 시키기\n",
    "# 8개의 주제만 뽑았으니 n_components(토픽개수) 8로 설정\n",
    "lda = LatentDirichletAllocation(n_components=3, random_state=42)\n",
    "lda.fit(ftr_vect)\n",
    "# components_속성은 8개의 토픽별(row)로 1000개의 feature(단어)들의 분포수치(column)를 보여줌\n",
    "print(lda.components_.shape)\n",
    "print(lda.components_)"
   ]
  },
  {
   "cell_type": "code",
   "execution_count": 21,
   "id": "c6f5015e",
   "metadata": {},
   "outputs": [
    {
     "name": "stdout",
     "output_type": "stream",
     "text": [
      "\n",
      "Topic # 1\n",
      "file*1418.6+edu*1221.6+image*1167.0+use*1099.7+graphics*976.2+program*912.5+available*887.9+window*836.0+ftp*760.9+server*750.6+files*719.8+display*672.4+software*628.5+data*616.6+version*605.5\n",
      "\n",
      "Topic # 2\n",
      "jpeg*772.1+dos*629.8+bike*494.3+windows*341.1+00*339.7+gif*319.6+03*253.1+02*226.1+04*214.7+new*204.0+lost*193.9+quality*193.4+bit*178.3+won*175.6+color*173.0\n",
      "\n",
      "Topic # 3\n",
      "like*902.4+just*878.7+don*865.8+know*780.8+think*682.9+year*608.5+good*597.3+time*580.4+ve*513.9+does*450.7+game*447.1+thanks*423.0+way*421.1+right*381.9+better*373.7\n"
     ]
    }
   ],
   "source": [
    "# 이 때 lda_model이란, 벡터화시킨 텍스트 데이터를 fit까지만 적용한 모델!\n",
    "def display_topic_words(lda_model, feature_names, num_top_words):\n",
    "    for topic_idx, topic in enumerate(lda_model.components_):\n",
    "        print('\\nTopic #', topic_idx+1)\n",
    "        \n",
    "        # Topic별로 1000개의 단어들(features)중에서 높은 값 순으로 정렬 후 index를 반환해줌!\n",
    "        # argsort()는 디폴트가 오름차순임(1,2,3,...) 그래서 [::-1]로 내림차순으로 바꿔주기\n",
    "        topic_word_idx = topic.argsort()[::-1]\n",
    "        top_idx = topic_word_idx[:num_top_words]\n",
    "        \n",
    "        # CountVectorizer함수 할당시킨 객체에 get_feature_names()로 벡터화시킨 feature(단어들)볼 수 있음!\n",
    "        # 이 벡터화시킨 단어들(features)은 숫자-알파벳순으로 정렬되며, 단어들 순서는 fit_transform시키고 난 이후에도 동일!\n",
    "        # '문자열'.join 함수로 특정 문자열 사이에 끼고 문자열 합쳐줄 수 있음.\n",
    "        feature_concat = '+'.join([str(feature_names[i])+'*'+str(round(topic[i], 1)) for i in top_idx])\n",
    "        print(feature_concat)        \n",
    "feature_names = count_vect.get_feature_names()\n",
    "display_topic_words(lda, feature_names, 15)"
   ]
  },
  {
   "cell_type": "code",
   "execution_count": 22,
   "id": "039a43d1",
   "metadata": {},
   "outputs": [
    {
     "name": "stdout",
     "output_type": "stream",
     "text": [
      "(3951, 3)\n",
      "[[0.33333333 0.33333333 0.33333333]\n",
      " [0.33333333 0.33333333 0.33333333]]\n"
     ]
    }
   ],
   "source": [
    "# transform까지 수행하면, 문서별(row)로 토픽들(column)의 분포를 알려줌\n",
    "doc_topics = lda.transform(ftr_vect)\n",
    "print(doc_topics.shape)\n",
    "print(doc_topics[:2])"
   ]
  },
  {
   "cell_type": "code",
   "execution_count": 24,
   "id": "74d00cbb",
   "metadata": {},
   "outputs": [
    {
     "data": {
      "text/html": [
       "<div>\n",
       "<style scoped>\n",
       "    .dataframe tbody tr th:only-of-type {\n",
       "        vertical-align: middle;\n",
       "    }\n",
       "\n",
       "    .dataframe tbody tr th {\n",
       "        vertical-align: top;\n",
       "    }\n",
       "\n",
       "    .dataframe thead th {\n",
       "        text-align: right;\n",
       "    }\n",
       "</style>\n",
       "<table border=\"1\" class=\"dataframe\">\n",
       "  <thead>\n",
       "    <tr style=\"text-align: right;\">\n",
       "      <th></th>\n",
       "      <th>Topic #0</th>\n",
       "      <th>Topic #1</th>\n",
       "      <th>Topic #2</th>\n",
       "    </tr>\n",
       "  </thead>\n",
       "  <tbody>\n",
       "    <tr>\n",
       "      <th>C:\\Users\\NFSI291\\scikit_learn_data\\20news_home\\20news-bydate-train\\rec.motorcycles\\103233</th>\n",
       "      <td>0.333333</td>\n",
       "      <td>0.333333</td>\n",
       "      <td>0.333333</td>\n",
       "    </tr>\n",
       "    <tr>\n",
       "      <th>C:\\Users\\NFSI291\\scikit_learn_data\\20news_home\\20news-bydate-train\\rec.sport.baseball\\102679</th>\n",
       "      <td>0.333333</td>\n",
       "      <td>0.333333</td>\n",
       "      <td>0.333333</td>\n",
       "    </tr>\n",
       "    <tr>\n",
       "      <th>C:\\Users\\NFSI291\\scikit_learn_data\\20news_home\\20news-bydate-train\\comp.graphics\\38299</th>\n",
       "      <td>0.701541</td>\n",
       "      <td>0.005414</td>\n",
       "      <td>0.293045</td>\n",
       "    </tr>\n",
       "    <tr>\n",
       "      <th>C:\\Users\\NFSI291\\scikit_learn_data\\20news_home\\20news-bydate-train\\rec.motorcycles\\104428</th>\n",
       "      <td>0.027522</td>\n",
       "      <td>0.031015</td>\n",
       "      <td>0.941463</td>\n",
       "    </tr>\n",
       "    <tr>\n",
       "      <th>C:\\Users\\NFSI291\\scikit_learn_data\\20news_home\\20news-bydate-test\\rec.sport.baseball\\104956</th>\n",
       "      <td>0.005272</td>\n",
       "      <td>0.027010</td>\n",
       "      <td>0.967718</td>\n",
       "    </tr>\n",
       "    <tr>\n",
       "      <th>C:\\Users\\NFSI291\\scikit_learn_data\\20news_home\\20news-bydate-train\\comp.graphics\\38265</th>\n",
       "      <td>0.394443</td>\n",
       "      <td>0.011816</td>\n",
       "      <td>0.593741</td>\n",
       "    </tr>\n",
       "    <tr>\n",
       "      <th>C:\\Users\\NFSI291\\scikit_learn_data\\20news_home\\20news-bydate-test\\comp.graphics\\38923</th>\n",
       "      <td>0.354100</td>\n",
       "      <td>0.176737</td>\n",
       "      <td>0.469163</td>\n",
       "    </tr>\n",
       "    <tr>\n",
       "      <th>C:\\Users\\NFSI291\\scikit_learn_data\\20news_home\\20news-bydate-train\\comp.graphics\\38371</th>\n",
       "      <td>0.629345</td>\n",
       "      <td>0.005116</td>\n",
       "      <td>0.365539</td>\n",
       "    </tr>\n",
       "    <tr>\n",
       "      <th>C:\\Users\\NFSI291\\scikit_learn_data\\20news_home\\20news-bydate-test\\comp.graphics\\39010</th>\n",
       "      <td>0.199181</td>\n",
       "      <td>0.789743</td>\n",
       "      <td>0.011076</td>\n",
       "    </tr>\n",
       "    <tr>\n",
       "      <th>C:\\Users\\NFSI291\\scikit_learn_data\\20news_home\\20news-bydate-train\\rec.motorcycles\\104651</th>\n",
       "      <td>0.042766</td>\n",
       "      <td>0.043958</td>\n",
       "      <td>0.913276</td>\n",
       "    </tr>\n",
       "    <tr>\n",
       "      <th>C:\\Users\\NFSI291\\scikit_learn_data\\20news_home\\20news-bydate-test\\comp.graphics\\39027</th>\n",
       "      <td>0.661197</td>\n",
       "      <td>0.021330</td>\n",
       "      <td>0.317473</td>\n",
       "    </tr>\n",
       "    <tr>\n",
       "      <th>C:\\Users\\NFSI291\\scikit_learn_data\\20news_home\\20news-bydate-train\\comp.graphics\\38360</th>\n",
       "      <td>0.508418</td>\n",
       "      <td>0.016891</td>\n",
       "      <td>0.474691</td>\n",
       "    </tr>\n",
       "    <tr>\n",
       "      <th>C:\\Users\\NFSI291\\scikit_learn_data\\20news_home\\20news-bydate-test\\rec.motorcycles\\105205</th>\n",
       "      <td>0.138446</td>\n",
       "      <td>0.082467</td>\n",
       "      <td>0.779087</td>\n",
       "    </tr>\n",
       "    <tr>\n",
       "      <th>C:\\Users\\NFSI291\\scikit_learn_data\\20news_home\\20news-bydate-train\\rec.motorcycles\\103137</th>\n",
       "      <td>0.442616</td>\n",
       "      <td>0.008764</td>\n",
       "      <td>0.548620</td>\n",
       "    </tr>\n",
       "    <tr>\n",
       "      <th>C:\\Users\\NFSI291\\scikit_learn_data\\20news_home\\20news-bydate-train\\comp.windows.x\\66990</th>\n",
       "      <td>0.845421</td>\n",
       "      <td>0.136350</td>\n",
       "      <td>0.018229</td>\n",
       "    </tr>\n",
       "    <tr>\n",
       "      <th>C:\\Users\\NFSI291\\scikit_learn_data\\20news_home\\20news-bydate-train\\comp.graphics\\38756</th>\n",
       "      <td>0.523308</td>\n",
       "      <td>0.102232</td>\n",
       "      <td>0.374460</td>\n",
       "    </tr>\n",
       "    <tr>\n",
       "      <th>C:\\Users\\NFSI291\\scikit_learn_data\\20news_home\\20news-bydate-train\\rec.motorcycles\\104712</th>\n",
       "      <td>0.019992</td>\n",
       "      <td>0.225699</td>\n",
       "      <td>0.754309</td>\n",
       "    </tr>\n",
       "    <tr>\n",
       "      <th>C:\\Users\\NFSI291\\scikit_learn_data\\20news_home\\20news-bydate-train\\rec.sport.baseball\\102737</th>\n",
       "      <td>0.031936</td>\n",
       "      <td>0.021818</td>\n",
       "      <td>0.946247</td>\n",
       "    </tr>\n",
       "    <tr>\n",
       "      <th>C:\\Users\\NFSI291\\scikit_learn_data\\20news_home\\20news-bydate-test\\comp.windows.x\\67550</th>\n",
       "      <td>0.801532</td>\n",
       "      <td>0.014771</td>\n",
       "      <td>0.183697</td>\n",
       "    </tr>\n",
       "    <tr>\n",
       "      <th>C:\\Users\\NFSI291\\scikit_learn_data\\20news_home\\20news-bydate-test\\rec.motorcycles\\105130</th>\n",
       "      <td>0.025061</td>\n",
       "      <td>0.025363</td>\n",
       "      <td>0.949576</td>\n",
       "    </tr>\n",
       "  </tbody>\n",
       "</table>\n",
       "</div>"
      ],
      "text/plain": [
       "                                                    Topic #0  Topic #1  \\\n",
       "C:\\Users\\NFSI291\\scikit_learn_data\\20news_home\\...  0.333333  0.333333   \n",
       "C:\\Users\\NFSI291\\scikit_learn_data\\20news_home\\...  0.333333  0.333333   \n",
       "C:\\Users\\NFSI291\\scikit_learn_data\\20news_home\\...  0.701541  0.005414   \n",
       "C:\\Users\\NFSI291\\scikit_learn_data\\20news_home\\...  0.027522  0.031015   \n",
       "C:\\Users\\NFSI291\\scikit_learn_data\\20news_home\\...  0.005272  0.027010   \n",
       "C:\\Users\\NFSI291\\scikit_learn_data\\20news_home\\...  0.394443  0.011816   \n",
       "C:\\Users\\NFSI291\\scikit_learn_data\\20news_home\\...  0.354100  0.176737   \n",
       "C:\\Users\\NFSI291\\scikit_learn_data\\20news_home\\...  0.629345  0.005116   \n",
       "C:\\Users\\NFSI291\\scikit_learn_data\\20news_home\\...  0.199181  0.789743   \n",
       "C:\\Users\\NFSI291\\scikit_learn_data\\20news_home\\...  0.042766  0.043958   \n",
       "C:\\Users\\NFSI291\\scikit_learn_data\\20news_home\\...  0.661197  0.021330   \n",
       "C:\\Users\\NFSI291\\scikit_learn_data\\20news_home\\...  0.508418  0.016891   \n",
       "C:\\Users\\NFSI291\\scikit_learn_data\\20news_home\\...  0.138446  0.082467   \n",
       "C:\\Users\\NFSI291\\scikit_learn_data\\20news_home\\...  0.442616  0.008764   \n",
       "C:\\Users\\NFSI291\\scikit_learn_data\\20news_home\\...  0.845421  0.136350   \n",
       "C:\\Users\\NFSI291\\scikit_learn_data\\20news_home\\...  0.523308  0.102232   \n",
       "C:\\Users\\NFSI291\\scikit_learn_data\\20news_home\\...  0.019992  0.225699   \n",
       "C:\\Users\\NFSI291\\scikit_learn_data\\20news_home\\...  0.031936  0.021818   \n",
       "C:\\Users\\NFSI291\\scikit_learn_data\\20news_home\\...  0.801532  0.014771   \n",
       "C:\\Users\\NFSI291\\scikit_learn_data\\20news_home\\...  0.025061  0.025363   \n",
       "\n",
       "                                                    Topic #2  \n",
       "C:\\Users\\NFSI291\\scikit_learn_data\\20news_home\\...  0.333333  \n",
       "C:\\Users\\NFSI291\\scikit_learn_data\\20news_home\\...  0.333333  \n",
       "C:\\Users\\NFSI291\\scikit_learn_data\\20news_home\\...  0.293045  \n",
       "C:\\Users\\NFSI291\\scikit_learn_data\\20news_home\\...  0.941463  \n",
       "C:\\Users\\NFSI291\\scikit_learn_data\\20news_home\\...  0.967718  \n",
       "C:\\Users\\NFSI291\\scikit_learn_data\\20news_home\\...  0.593741  \n",
       "C:\\Users\\NFSI291\\scikit_learn_data\\20news_home\\...  0.469163  \n",
       "C:\\Users\\NFSI291\\scikit_learn_data\\20news_home\\...  0.365539  \n",
       "C:\\Users\\NFSI291\\scikit_learn_data\\20news_home\\...  0.011076  \n",
       "C:\\Users\\NFSI291\\scikit_learn_data\\20news_home\\...  0.913276  \n",
       "C:\\Users\\NFSI291\\scikit_learn_data\\20news_home\\...  0.317473  \n",
       "C:\\Users\\NFSI291\\scikit_learn_data\\20news_home\\...  0.474691  \n",
       "C:\\Users\\NFSI291\\scikit_learn_data\\20news_home\\...  0.779087  \n",
       "C:\\Users\\NFSI291\\scikit_learn_data\\20news_home\\...  0.548620  \n",
       "C:\\Users\\NFSI291\\scikit_learn_data\\20news_home\\...  0.018229  \n",
       "C:\\Users\\NFSI291\\scikit_learn_data\\20news_home\\...  0.374460  \n",
       "C:\\Users\\NFSI291\\scikit_learn_data\\20news_home\\...  0.754309  \n",
       "C:\\Users\\NFSI291\\scikit_learn_data\\20news_home\\...  0.946247  \n",
       "C:\\Users\\NFSI291\\scikit_learn_data\\20news_home\\...  0.183697  \n",
       "C:\\Users\\NFSI291\\scikit_learn_data\\20news_home\\...  0.949576  "
      ]
     },
     "execution_count": 24,
     "metadata": {},
     "output_type": "execute_result"
    }
   ],
   "source": [
    "import pandas as pd\n",
    "# 주어진 내장 텍스트데이터의 문서이름에는 카테고리가 labeling되어있음. \n",
    "# 따라서, 카테고리가 무엇인지 아는 상태이니까 어떤 문서들이 어떤 토픽들이 높은지 확인해보자.\n",
    "# 그리고 그 토픽들이 각각 무엇을 내용으로 하는지 추측해보자.\n",
    "# 주어진 데이터셋의 filename속성을 이용해서 카테고리값들 가져오기\n",
    "def get_filename_list(newsdata):\n",
    "    filename_lst = []\n",
    "    for file in newsdata.filenames:\n",
    "        filename_temp = file.split('/')[-2:]\n",
    "        filename = '.'.join(filename_temp)\n",
    "        filename_lst.append(filename)\n",
    "    return filename_lst\n",
    " \n",
    "filename_lst = get_filename_list(news_df)\n",
    "# Dataframe형태로 만들어보기\n",
    "topic_names = ['Topic #'+ str(i) for i in range(0,3)]\n",
    "topic_df = pd.DataFrame(data=doc_topics, columns=topic_names,\n",
    "                       index=filename_lst)\n",
    "topic_df.head(20)"
   ]
  },
  {
   "cell_type": "code",
   "execution_count": null,
   "id": "ba7c07f5",
   "metadata": {},
   "outputs": [],
   "source": []
  },
  {
   "cell_type": "code",
   "execution_count": null,
   "id": "d18ecf2f",
   "metadata": {},
   "outputs": [],
   "source": []
  },
  {
   "cell_type": "code",
   "execution_count": null,
   "id": "d90f330e",
   "metadata": {},
   "outputs": [],
   "source": []
  },
  {
   "cell_type": "code",
   "execution_count": null,
   "id": "828712ae",
   "metadata": {},
   "outputs": [],
   "source": []
  },
  {
   "cell_type": "code",
   "execution_count": 11,
   "id": "7fba2783",
   "metadata": {},
   "outputs": [],
   "source": [
    "import nltk\n",
    "text = '여전히 너를 보면 잠들은 너를 보면 우리 처음 만남이 생각나 그댄 여전히 아름다워 여전히 너를 보면 잠들은 너를 보면 우리 처음 만남이 생각나'\n",
    "wbt_words = text.split(' ')\n",
    "fdist = nltk.FreqDist(wbt_words)"
   ]
  },
  {
   "cell_type": "code",
   "execution_count": 12,
   "id": "a47f9c9c",
   "metadata": {},
   "outputs": [
    {
     "data": {
      "text/plain": [
       "'너를'"
      ]
     },
     "execution_count": 12,
     "metadata": {},
     "output_type": "execute_result"
    },
    {
     "data": {
      "text/plain": [
       "23"
      ]
     },
     "execution_count": 12,
     "metadata": {},
     "output_type": "execute_result"
    },
    {
     "data": {
      "text/plain": [
       "[('너를', 4),\n",
       " ('보면', 4),\n",
       " ('여전히', 3),\n",
       " ('잠들은', 2),\n",
       " ('우리', 2),\n",
       " ('처음', 2),\n",
       " ('만남이', 2),\n",
       " ('생각나', 2),\n",
       " ('그댄', 1),\n",
       " ('아름다워', 1)]"
      ]
     },
     "execution_count": 12,
     "metadata": {},
     "output_type": "execute_result"
    },
    {
     "data": {
      "text/plain": [
       "[('너를', 4), ('보면', 4), ('여전히', 3)]"
      ]
     },
     "execution_count": 12,
     "metadata": {},
     "output_type": "execute_result"
    },
    {
     "data": {
      "text/plain": [
       "4"
      ]
     },
     "execution_count": 12,
     "metadata": {},
     "output_type": "execute_result"
    }
   ],
   "source": [
    "fdist.max()\n",
    "fdist.N()\n",
    "fdist.most_common()\n",
    "fdist.most_common(3)\n",
    "fdist[fdist.max()]"
   ]
  },
  {
   "cell_type": "code",
   "execution_count": 13,
   "id": "4d3f9bc5",
   "metadata": {},
   "outputs": [
    {
     "name": "stdout",
     "output_type": "stream",
     "text": [
      "  너를   보면  여전히  잠들은   우리   처음  만남이  생각나   그댄 아름다워 \n",
      "   4    4    3    2    2    2    2    2    1    1 \n",
      "  너를   보면  여전히  잠들은   우리   처음  만남이  생각나   그댄 아름다워 \n",
      "   4    4    3    2    2    2    2    2    1    1 \n"
     ]
    },
    {
     "data": {
      "text/html": [
       "<div>\n",
       "<style scoped>\n",
       "    .dataframe tbody tr th:only-of-type {\n",
       "        vertical-align: middle;\n",
       "    }\n",
       "\n",
       "    .dataframe tbody tr th {\n",
       "        vertical-align: top;\n",
       "    }\n",
       "\n",
       "    .dataframe thead th {\n",
       "        text-align: right;\n",
       "    }\n",
       "</style>\n",
       "<table border=\"1\" class=\"dataframe\">\n",
       "  <thead>\n",
       "    <tr style=\"text-align: right;\">\n",
       "      <th></th>\n",
       "    </tr>\n",
       "  </thead>\n",
       "  <tbody>\n",
       "  </tbody>\n",
       "</table>\n",
       "</div>"
      ],
      "text/plain": [
       "Empty DataFrame\n",
       "Columns: []\n",
       "Index: []"
      ]
     },
     "execution_count": 13,
     "metadata": {},
     "output_type": "execute_result"
    }
   ],
   "source": [
    "fdist.tabulate()\n",
    "import pandas as pd\n",
    "pd.DataFrame(fdist.tabulate())"
   ]
  },
  {
   "cell_type": "code",
   "execution_count": 18,
   "id": "50ddcf53",
   "metadata": {},
   "outputs": [
    {
     "data": {
      "image/png": "[encoded data removed]",
      "text/plain": [
       "<Figure size 432x288 with 1 Axes>"
      ]
     },
     "metadata": {
      "needs_background": "light"
     },
     "output_type": "display_data"
    },
    {
     "data": {
      "text/plain": [
       "<AxesSubplot:xlabel='Samples', ylabel='Cumulative Counts'>"
      ]
     },
     "execution_count": 18,
     "metadata": {},
     "output_type": "execute_result"
    }
   ],
   "source": [
    "fdist.plot(cumulative=True)"
   ]
  },
  {
   "cell_type": "code",
   "execution_count": 20,
   "id": "386d0b39",
   "metadata": {},
   "outputs": [
    {
     "data": {
      "image/png": "[encoded data removed]",
      "text/plain": [
       "<Figure size 432x288 with 1 Axes>"
      ]
     },
     "metadata": {
      "needs_background": "light"
     },
     "output_type": "display_data"
    },
    {
     "data": {
      "text/plain": [
       "<AxesSubplot:xlabel='Samples', ylabel='Counts'>"
      ]
     },
     "execution_count": 20,
     "metadata": {},
     "output_type": "execute_result"
    }
   ],
   "source": [
    "fdist.plot()"
   ]
  },
  {
   "cell_type": "code",
   "execution_count": null,
   "id": "68e16381",
   "metadata": {},
   "outputs": [],
   "source": []
  },
  {
   "cell_type": "code",
   "execution_count": null,
   "id": "84f64a20",
   "metadata": {},
   "outputs": [],
   "source": []
  },
  {
   "cell_type": "code",
   "execution_count": null,
   "id": "1aa5177f",
   "metadata": {},
   "outputs": [],
   "source": []
  }
 ],
 "metadata": {
  "kernelspec": {
   "display_name": "Python 3",
   "language": "python",
   "name": "python3"
  },
  "language_info": {
   "codemirror_mode": {
    "name": "ipython",
    "version": 3
   },
   "file_extension": ".py",
   "mimetype": "text/x-python",
   "name": "python",
   "nbconvert_exporter": "python",
   "pygments_lexer": "ipython3",
   "version": "3.8.8"
  }
 },
 "nbformat": 4,
 "nbformat_minor": 5
}
